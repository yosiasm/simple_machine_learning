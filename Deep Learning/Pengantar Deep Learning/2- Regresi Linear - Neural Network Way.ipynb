{
 "cells": [
  {
   "cell_type": "markdown",
   "metadata": {},
   "source": [
    "# Regresi Linear - Neural Network Way\n",
    "\n",
    "![Meme3](./images/meme3.png)\n",
    "\n",
    "Sumber: https://knowyourmeme.com/photos/1507130-virgin-vs-chad"
   ]
  },
  {
   "cell_type": "markdown",
   "metadata": {},
   "source": [
    "Untuk mendalami cara kerja model neural network lebih lanjut, maka kita akan mulai dari model yang paling sederhana, yakni model regresi linear dengan menggunakan framework ```keras```."
   ]
  },
  {
   "cell_type": "code",
   "execution_count": null,
   "metadata": {},
   "outputs": [],
   "source": [
    "# load library\n",
    "\n",
    "from keras.models import Sequential\n",
    "from keras.layers import Dense\n",
    "from keras.optimizers import SGD\n",
    "\n",
    "import numpy as np\n",
    "import matplotlib.pyplot as plt\n"
   ]
  },
  {
   "cell_type": "markdown",
   "metadata": {},
   "source": [
    "Selanjutnya kita akan membangkitkan dataset untuk simulasi menggunakan ```numpy```"
   ]
  },
  {
   "cell_type": "code",
   "execution_count": null,
   "metadata": {},
   "outputs": [],
   "source": [
    "# membuat seeding\n",
    "np.random.seed(1000)\n",
    "nilai_X = np.linspace(-1, 1, 1000)\n",
    "nilai_Y = 2.5 * nilai_X + np.random.randn(nilai_X.shape[0]) * 0.33 # create a y value which is approximately linear but with some random noise"
   ]
  },
  {
   "cell_type": "markdown",
   "metadata": {},
   "source": [
    "Berikut merupakan plot dari fungsi diatas."
   ]
  },
  {
   "cell_type": "code",
   "execution_count": null,
   "metadata": {},
   "outputs": [],
   "source": [
    "plt.plot(nilai_X, nilai_Y, 'o')\n",
    "plt.show()"
   ]
  },
  {
   "cell_type": "markdown",
   "metadata": {},
   "source": [
    "Selanjutnya kita akan membuat model regresi linear menggunakan ```keras```."
   ]
  },
  {
   "cell_type": "code",
   "execution_count": null,
   "metadata": {},
   "outputs": [],
   "source": [
    "model = Sequential()\n",
    "model.add(Dense(input_dim=1, units=1, kernel_initializer='uniform', activation='linear'))\n",
    "sgd = SGD(learning_rate=0.01)\n",
    "model.compile(optimizer=sgd, loss='mse')"
   ]
  },
  {
   "cell_type": "markdown",
   "metadata": {},
   "source": [
    "## Penjelasan\n",
    "\n",
    "- Sintaks ```model = Sequential()``` berfungsi untuk inisiasi model *sequential*. Model sequential merupakan model paling dasar yang dapat dibangun oleh ```keras```. Dengan model sequential, kita dapat membuat banyak layer untuk model neural network dengan sangat mudah.\n",
    "\n",
    "- Sintaks ```model.add()``` berfungsi untuk menambah layer pada model sequential. Kita dapat menambahkan layer dengan jenis yang berbeda sesuai kebutuhan, dalam contoh kali ini kita menggunakan fungsi ```Dense```.\n",
    "\n",
    "- Sintaks ```Dense``` berfungsi untuk menambah layer yang terdiri dari n input dan m output/units. Dalam contoh kali ini kita hanya memasukkan input_dim=1 karena model hanya terdiri dari 1 variabel input saja, sedangkan units=1 dikarenakan kita hanya menghasilkan 1 output saja. ```kernel_initializer``` berfungsi untuk inisiasi nilai weight pada layer ini, pada contoh kali ini kita menggunakan distribusi uniform untuk membangkitkan nilai weight. ```kernel_initializer``` lainnya dapat dilihat di https://keras.io/initializers/. Selanjutnya ```activation``` berfungsi untuk menentukan fungsi aktivasi yang dipakai, dalam hal ini kita menggunakan ```linear```. Beberapa fungsi aktivasi yang dapat dipilih dapat dilihat di https://keras.io/activations/.\n",
    "\n",
    "- Sintaks ```SGD``` berfungsi untuk membuat *stochastic gradient descent optimizers* yang digunakan untuk optimasi model neural network. Optimizer lainnya dapat dilihat di https://keras.io/optimizers/.\n",
    "\n",
    "- sintaks ```model.compile``` berfungsi untuk membuat model menjadi siap pakai untuk pemodelan dengan menentukan ```optimizer``` dan ```loss``` yang digunakan. Pada model ini kita menggunakan ```sgd``` sebagai optimizer yaitu metode *stochastic gradient descent*, sedangkan untuk menghitung loss atau error kita menggunakan ```mse``` atau *mean-squared error*."
   ]
  },
  {
   "cell_type": "markdown",
   "metadata": {},
   "source": [
    "---"
   ]
  },
  {
   "cell_type": "markdown",
   "metadata": {},
   "source": [
    "## Stochastic Gradient Descent\n",
    "\n",
    "Stochastic Gradient Descent adalah salah satu metode pencarian solusi optimal yang menggunakan konsep gradient untuk mencari solusi. Biasanya, solusi dapat dicari hanya dengan metode gradient descent, yaitu dengan memilih titik awal $w_0$, lalu menghitung arah dengan cara menghitung nilai gradient pada titik tersebut.\n",
    "\n",
    "![Gradient Descent](./images/gradient-descent.jpeg)\n",
    "\n",
    "Sumber: http://shivammehta.me/blog/category/mathematics/linear-algebra/\n",
    "\n",
    "Kecepatan learning dari model neural network juga bergantung pada seberapa besar learning rate yang digunakan dalam model. Semakin kecil nilai learning rate maka semakin lama pula model memperoleh solusi optimal, namun hasilnya kemungkinan besar optimal, ketimbang dengan menggunakan learning rate yang besar.\n",
    "\n",
    "![Learning Rate](./images/learning_rate.jpg)\n",
    "\n",
    "Sumber: https://medium.com/@montjoile/an-introduction-to-gradient-descent-algorithm-34cf3cee752b\n",
    "\n",
    "Untuk data yang jumlahnya tidak terlalu banyak, tidak akan terlalu menjadi masalah karena pencarian solusinya cukup cepat hanya dengan mengandalkan gradient descent, namun jika data yang diolah terlalu besar, maka perlu metode lain yang digunakan untuk pencarian solusi optimal, yakni dengan hanya mengambil 1 contoh dari sekian banyak untuk dilatih per iterasinya yang disebut sebagai metode *stochastic gradient descent*.\n",
    "\n",
    "![Gradient vs Stochastic](./images/gradient_vs_stochastic.png)\n",
    "\n",
    "Sumber: https://engmrk.com/mini-batch-gd/\n"
   ]
  },
  {
   "cell_type": "markdown",
   "metadata": {},
   "source": [
    "## Global Optima vs Local Optima\n",
    "\n",
    "Solusi dari suatu fungsi terkadang tidak hanya 1, tapi bisa jadi lebih. Hal ini bisa jadi dikarenakan dimensi dari data yang begitu besar atau inkonsistensi pada data dan sebab lainnya. \n",
    "\n",
    "![Local vs Global Optima](./images/local_vs_global.png)\n",
    "\n",
    "Mengapa kita perlu tahu apa itu local dan global optima? Karena solusi yang diperoleh oleh model neural network yang dibuat belum tentu optimal, apalagi jika terdapat banyak sekali local optima pada data sehingga pencarian solusi global menjadi sangat sulit. Hal ini juga yang menyebabkan penentuan pencari solusi optimal dan learning rate menjadi sangat penting."
   ]
  },
  {
   "cell_type": "markdown",
   "metadata": {},
   "source": [
    "---"
   ]
  },
  {
   "cell_type": "markdown",
   "metadata": {},
   "source": [
    "**Model Fitting**"
   ]
  },
  {
   "cell_type": "code",
   "execution_count": null,
   "metadata": {},
   "outputs": [],
   "source": [
    "model.fit(nilai_X, nilai_Y, epochs=100)"
   ]
  },
  {
   "cell_type": "markdown",
   "metadata": {},
   "source": [
    "## Backpropagation\n",
    "\n",
    "Model diatas bekerja dengan cara melakukan propagasi balik atau yang biasa disebut juga sebagai backpropagation. Proses ini terdiri dari dua proses: forward-pass dan backward-pass.\n",
    "\n",
    "Cara kerja dari proses backpropagation dapat dilihat pada ilustrasi berikut ini:\n",
    "\n",
    "![Backprop](./images/backprop2.gif)\n",
    "\n",
    "Sumber: https://mc.ai/introduction-to-neural-networks%E2%80%8A-%E2%80%8Apart-2/"
   ]
  },
  {
   "cell_type": "markdown",
   "metadata": {},
   "source": [
    "---"
   ]
  },
  {
   "cell_type": "markdown",
   "metadata": {},
   "source": [
    "Melihat nilai weight."
   ]
  },
  {
   "cell_type": "code",
   "execution_count": null,
   "metadata": {},
   "outputs": [],
   "source": [
    "weights = model.layers[0].get_weights()\n",
    "w = weights[0][0][0]\n",
    "b = weights[1][0]\n",
    "\n",
    "print(\"Diperoleh nilai weight dari model w: %.5f,  sedangkan nilai biasnya b: %.5f\" %(w,b))"
   ]
  },
  {
   "cell_type": "markdown",
   "metadata": {},
   "source": [
    "Selanjutnya kita coba membuat nilai prediksi dari ```nilai_X```."
   ]
  },
  {
   "cell_type": "code",
   "execution_count": null,
   "metadata": {},
   "outputs": [],
   "source": [
    "nilai_Y_baru = model.predict(nilai_X)\n",
    "nilai_Y_baru = nilai_Y_baru.reshape(nilai_Y.shape[0],)"
   ]
  },
  {
   "cell_type": "markdown",
   "metadata": {},
   "source": [
    "Selanjutnya melakukan plotting untuk nilai_Y dan nilai_Y_baru hasil prediksi dari model."
   ]
  },
  {
   "cell_type": "code",
   "execution_count": null,
   "metadata": {
    "scrolled": true
   },
   "outputs": [],
   "source": [
    "plt.plot(nilai_X, nilai_Y, 'o')\n",
    "plt.plot(nilai_X, nilai_Y_baru, '-b')\n",
    "plt.show()"
   ]
  },
  {
   "cell_type": "markdown",
   "metadata": {},
   "source": [
    "# Latihan\n",
    "\n",
    "Gunakan data dari House Price (https://www.kaggle.com/c/house-prices-advanced-regression-techniques) yang pernah digunakan sebelumnya, gunakan model perceptron untuk mendapat hasil prediksinya lalu submit hasilnya."
   ]
  }
 ],
 "metadata": {
  "kernelspec": {
   "display_name": "Python 3",
   "language": "python",
   "name": "python3"
  },
  "language_info": {
   "codemirror_mode": {
    "name": "ipython",
    "version": 3
   },
   "file_extension": ".py",
   "mimetype": "text/x-python",
   "name": "python",
   "nbconvert_exporter": "python",
   "pygments_lexer": "ipython3",
   "version": "3.7.1"
  }
 },
 "nbformat": 4,
 "nbformat_minor": 4
}
